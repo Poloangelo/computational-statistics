{
 "cells": [
  {
   "cell_type": "code",
   "execution_count": 8,
   "metadata": {},
   "outputs": [
    {
     "data": {
      "image/png": "[encoded data removed]",
      "text/plain": [
       "<Figure size 432x288 with 1 Axes>"
      ]
     },
     "metadata": {},
     "output_type": "display_data"
    }
   ],
   "source": [
    "import numpy as np\n",
    "\n",
    "a = 10\n",
    "\n",
    "def pi(x,y):\n",
    "    a = 10\n",
    "    pi = np.exp(- x**2 / a**2 -y**2 -1/4 * (x**2 / a**2 - y**2) **2)\n",
    "    return pi\n",
    "    \n",
    "    \n",
    "def P1(x,y, sigma=3):\n",
    "    x2 = x + sigma * np.random.normal(0,1)\n",
    "    alpha = min(1, pi(x2,y) / pi(x,y))\n",
    "    u = np.random.uniform(0,1)\n",
    "    if u < alpha:\n",
    "        return x2,y\n",
    "    else:\n",
    "        return x,y\n",
    "    \n",
    "def P2(x,y, sigma=3):\n",
    "    y2 = y + sigma * np.random.normal(0,1)\n",
    "    alpha = min(1, pi(x,y2) / pi(x,y))\n",
    "    u = np.random.uniform(0,1)\n",
    "    if u < alpha:\n",
    "        return x,y2\n",
    "    else:\n",
    "        return x,y\n",
    "\n",
    "n = 100\n",
    "def P(x,y):\n",
    "    XY = np.zeros([2,n])\n",
    "    for i in range(0,n):\n",
    "        x1,y1 = P1(x,y)\n",
    "        x2,y2 = P2(x,y)\n",
    "        x,y = 1/2 * (x1+x2) , 1/2 * (y1+y2)\n",
    "        XY[0,i] = x\n",
    "        XY[1,i] = y\n",
    "    return XY\n",
    "   \n",
    "import matplotlib.pyplot as plt\n",
    "XY = P(0,0)\n",
    "plt.scatter(XY[0,:], XY[1,:])\n",
    "plt.show()\n",
    "\n",
    "\n"
   ]
  },
  {
   "cell_type": "code",
   "execution_count": null,
   "metadata": {
    "collapsed": true
   },
   "outputs": [],
   "source": [
    "\n",
    "#2)\n",
    "\n",
    "d = 2\n",
    "#initialisation\n",
    "l = np.zeros(d)\n",
    "X = np.zeros(d)\n",
    "\n",
    "def delta(j):\n",
    "    return min(0.01, j**(-1/2))\n",
    "\n",
    "def alpha(,X,i):\n",
    "    p = pi(prop[i]) / pi()\n",
    "\n",
    "def HM(X,i):\n",
    "\n",
    "def adaptive_HM_Gibbs(X0,k):\n",
    "    #X_n = np.zeros(d)\n",
    "    for j in range(0,1000)\n",
    "        Xk = np.zeros(d)\n",
    "        for i in range(0,d):\n",
    "            Xk[i] = HM(X0,i)\n",
    "            prop = np.random.normal(X0[i],sigma[i])\n",
    "            alpha = alpha(prop[i], X0[i])\n",
    "            if np.random.uniform(0,1) > alpha:\n",
    "                ...\n",
    "            \n",
    "        if j%50 == 0:\n",
    "            if alpha > 0.24:\n",
    "                l[i] += delta(j)\n",
    "            else:\n",
    "                l[i] -= delta(j)\n"
   ]
  },
  {
   "cell_type": "code",
   "execution_count": null,
   "metadata": {
    "collapsed": true
   },
   "outputs": [],
   "source": [
    "#exercice 2\n",
    "mu = np.array([[2.18, 5.76], [8.67, 9.59], [4.24, 8.48], [8.41, 1.68], [3.93, 8.82],\n",
    "               [3.25, 3.47], [1.70, 0.50], [4.59, 5.60], [6.91, 5.81], [6.87, 5.40],\n",
    "               [5.41, 2.65], [2.70, 7.88], [4.98, 3.70], [1.14, 2.39], [8.33, 9.50],\n",
    "               [4.93, 1.50], [1.83, 0.09], [2.26, 0.31], [5.54, 6.86], [1.69, 8.11]])\n",
    "\n",
    "w = \n",
    "\n",
    "def pi(x):\n",
    "    return sum([w[i]/(2 * np.pi * sigma[i]) * np.exp(- 1/(2*sigma[i]) * (x-mu[i]).T.dot(x-mu[i])) for i in range(0,n)])\n",
    "\n",
    "print(pi())\n",
    "def q(x):\n",
    "    return np.random.multivariate_normal(x, sigma_prop * np.eye(len(x)))\n",
    "\n",
    "def alpha(z0, z):\n",
    "    return np.min([1, pi(z) / pi(z0)])\n",
    "\n",
    "def HM(z0, n):\n",
    "    nb = 0\n",
    "    for i in range(n):\n",
    "        z = q(z0)\n",
    "        proba = alpha(z0, z)\n",
    "        u = np.random.uniform(0,1)\n",
    "        if u < proba :\n",
    "            z0 = z\n",
    "            nb+=1\n",
    "    print(nb)\n",
    "            \n",
    "    return z0\n",
    "\n",
    "# utiliser numba pour les boucles for\n"
   ]
  }
 ],
 "metadata": {
  "kernelspec": {
   "display_name": "Python 3",
   "language": "python",
   "name": "python3"
  },
  "language_info": {
   "codemirror_mode": {
    "name": "ipython",
    "version": 3
   },
   "file_extension": ".py",
   "mimetype": "text/x-python",
   "name": "python",
   "nbconvert_exporter": "python",
   "pygments_lexer": "ipython3",
   "version": "3.6.3"
  }
 },
 "nbformat": 4,
 "nbformat_minor": 2
}
