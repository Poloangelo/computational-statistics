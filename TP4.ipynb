import numpy as np

a = 10

def pi(x,y):
    a = 10
    pi = np.exp(- x**2 / a**2 -y**2 -1/4 * (x**2 / a**2 - y**2) **2)
    return pi
    
    
def P1(x,y, sigma=3):
    x2 = x + sigma * np.random.normal(0,1)
    alpha = min(1, pi(x2,y) / pi(x,y))
    u = np.random.uniform(0,1)
    if u < alpha:
        return x2,y
    else:
        return x,y
    
def P2(x,y, sigma=3):
    y2 = y + sigma * np.random.normal(0,1)
    alpha = min(1, pi(x,y2) / pi(x,y))
    u = np.random.uniform(0,1)
    if u < alpha:
        return x,y2
    else:
        return x,y

n = 100
def P(x,y):
    XY = np.zeros([2,n])
    for i in range(0,n):
        x1,y1 = P1(x,y)
        x2,y2 = P2(x,y)
        x,y = 1/2 * (x1+x2) , 1/2 * (y1+y2)
        XY[0,i] = x
        XY[1,i] = y
    return XY
   
import matplotlib.pyplot as plt
XY = P(0,0)
plt.scatter(XY[0,:], XY[1,:])
plt.show()




